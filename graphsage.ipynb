{
 "cells": [
  {
   "attachments": {},
   "cell_type": "markdown",
   "metadata": {},
   "source": [
    "# Graph Neural Networks with Pytorch\n",
    "\n",
    "Original Paper: https://arxiv.org/abs/1706.02216    \n",
    "Original Code: https://github.com/rusty1s/pytorch_geometric/blob/master/examples/reddit.py"
   ]
  },
  {
   "cell_type": "code",
   "execution_count": 1,
   "metadata": {},
   "outputs": [
    {
     "name": "stdout",
     "output_type": "stream",
     "text": [
      "Collecting pytorch\n",
      "  Using cached pytorch-1.0.2.tar.gz (689 bytes)\n",
      "  Preparing metadata (setup.py): started\n",
      "  Preparing metadata (setup.py): finished with status 'done'\n",
      "Collecting torchvision\n",
      "  Using cached torchvision-0.14.1-cp310-cp310-win_amd64.whl (1.1 MB)\n",
      "Collecting torchaudio\n",
      "  Using cached torchaudio-0.13.1-cp310-cp310-win_amd64.whl (2.0 MB)\n",
      "Requirement already satisfied: pillow!=8.3.*,>=5.3.0 in c:\\users\\wikid\\appdata\\local\\programs\\python\\python310\\lib\\site-packages (from torchvision) (9.2.0)\n",
      "Requirement already satisfied: requests in c:\\users\\wikid\\appdata\\local\\programs\\python\\python310\\lib\\site-packages (from torchvision) (2.28.2)\n",
      "Requirement already satisfied: torch==1.13.1 in c:\\users\\wikid\\appdata\\local\\programs\\python\\python310\\lib\\site-packages (from torchvision) (1.13.1)\n",
      "Requirement already satisfied: typing-extensions in c:\\users\\wikid\\appdata\\local\\programs\\python\\python310\\lib\\site-packages (from torchvision) (4.4.0)\n",
      "Requirement already satisfied: numpy in c:\\users\\wikid\\appdata\\local\\programs\\python\\python310\\lib\\site-packages (from torchvision) (1.23.1)\n",
      "Requirement already satisfied: idna<4,>=2.5 in c:\\users\\wikid\\appdata\\local\\programs\\python\\python310\\lib\\site-packages (from requests->torchvision) (3.4)\n",
      "Requirement already satisfied: certifi>=2017.4.17 in c:\\users\\wikid\\appdata\\local\\programs\\python\\python310\\lib\\site-packages (from requests->torchvision) (2022.12.7)\n",
      "Requirement already satisfied: urllib3<1.27,>=1.21.1 in c:\\users\\wikid\\appdata\\local\\programs\\python\\python310\\lib\\site-packages (from requests->torchvision) (1.26.14)\n",
      "Requirement already satisfied: charset-normalizer<4,>=2 in c:\\users\\wikid\\appdata\\local\\programs\\python\\python310\\lib\\site-packages (from requests->torchvision) (2.1.1)\n",
      "Building wheels for collected packages: pytorch\n",
      "  Building wheel for pytorch (setup.py): started\n",
      "  Building wheel for pytorch (setup.py): finished with status 'error'\n",
      "  Running setup.py clean for pytorch\n",
      "Failed to build pytorch\n",
      "Installing collected packages: pytorch, torchvision, torchaudio\n",
      "  Running setup.py install for pytorch: started\n",
      "  Running setup.py install for pytorch: finished with status 'error'\n",
      "\n",
      "[notice] A new release of pip available: 22.1.2 -> 23.0.1\n",
      "[notice] To update, run: python.exe -m pip install --upgrade pip\n"
     ]
    },
    {
     "name": "stderr",
     "output_type": "stream",
     "text": [
      "  error: subprocess-exited-with-error\n",
      "  \n",
      "  × python setup.py bdist_wheel did not run successfully.\n",
      "  │ exit code: 1\n",
      "  ╰─> [6 lines of output]\n",
      "      Traceback (most recent call last):\n",
      "        File \"<string>\", line 2, in <module>\n",
      "        File \"<pip-setuptools-caller>\", line 34, in <module>\n",
      "        File \"C:\\Users\\wikid\\AppData\\Local\\Temp\\pip-install-ix6_d1lf\\pytorch_b8dff50a61f54f5994ecda1524a19b9c\\setup.py\", line 15, in <module>\n",
      "          raise Exception(message)\n",
      "      Exception: You tried to install \"pytorch\". The package named for PyTorch is \"torch\"\n",
      "      [end of output]\n",
      "  \n",
      "  note: This error originates from a subprocess, and is likely not a problem with pip.\n",
      "  ERROR: Failed building wheel for pytorch\n",
      "  error: subprocess-exited-with-error\n",
      "  \n",
      "  × Running setup.py install for pytorch did not run successfully.\n",
      "  │ exit code: 1\n",
      "  ╰─> [6 lines of output]\n",
      "      Traceback (most recent call last):\n",
      "        File \"<string>\", line 2, in <module>\n",
      "        File \"<pip-setuptools-caller>\", line 34, in <module>\n",
      "        File \"C:\\Users\\wikid\\AppData\\Local\\Temp\\pip-install-ix6_d1lf\\pytorch_b8dff50a61f54f5994ecda1524a19b9c\\setup.py\", line 11, in <module>\n",
      "          raise Exception(message)\n",
      "      Exception: You tried to install \"pytorch\". The package named for PyTorch is \"torch\"\n",
      "      [end of output]\n",
      "  \n",
      "  note: This error originates from a subprocess, and is likely not a problem with pip.\n",
      "error: legacy-install-failure\n",
      "\n",
      "× Encountered error while trying to install package.\n",
      "╰─> pytorch\n",
      "\n",
      "note: This is an issue with the package mentioned above, not pip.\n",
      "hint: See above for output from the failure.\n"
     ]
    },
    {
     "name": "stdout",
     "output_type": "stream",
     "text": [
      "Requirement already satisfied: torch_scatter in c:\\users\\wikid\\appdata\\local\\programs\\python\\python310\\lib\\site-packages (2.1.0)\n",
      "\n",
      "[notice] A new release of pip available: 22.1.2 -> 23.0.1\n",
      "[notice] To update, run: python.exe -m pip install --upgrade pip\n",
      "Requirement already satisfied: torch_sparse in c:\\users\\wikid\\appdata\\local\\programs\\python\\python310\\lib\\site-packages (0.6.16)\n",
      "Requirement already satisfied: scipy in c:\\users\\wikid\\appdata\\local\\programs\\python\\python310\\lib\\site-packages (from torch_sparse) (1.8.1)\n",
      "Requirement already satisfied: numpy<1.25.0,>=1.17.3 in c:\\users\\wikid\\appdata\\local\\programs\\python\\python310\\lib\\site-packages (from scipy->torch_sparse) (1.23.1)\n",
      "\n",
      "[notice] A new release of pip available: 22.1.2 -> 23.0.1\n",
      "[notice] To update, run: python.exe -m pip install --upgrade pip\n"
     ]
    }
   ],
   "source": [
    "!pip install pytorch torchvision torchaudio\n",
    "!pip install torch_scatter\n",
    "!pip install torch_sparse"
   ]
  },
  {
   "cell_type": "code",
   "execution_count": 2,
   "metadata": {},
   "outputs": [
    {
     "name": "stderr",
     "output_type": "stream",
     "text": [
      "c:\\Users\\wikid\\AppData\\Local\\Programs\\Python\\Python310\\lib\\site-packages\\tqdm\\auto.py:22: TqdmWarning: IProgress not found. Please update jupyter and ipywidgets. See https://ipywidgets.readthedocs.io/en/stable/user_install.html\n",
      "  from .autonotebook import tqdm as notebook_tqdm\n"
     ]
    }
   ],
   "source": [
    "import os\n",
    "import sys\n",
    "\n",
    "import torch\n",
    "import torch.nn.functional as F\n",
    "from tqdm import tqdm\n",
    "from torch_geometric.datasets import Reddit\n",
    "from torch_geometric.data import NeighborSampler\n",
    "from torch_geometric.nn import SAGEConv\n",
    "\n",
    "sys.path.append('./')\n",
    "from utils import *\n",
    "logger = make_logger(name='graphsage_logger')"
   ]
  },
  {
   "cell_type": "code",
   "execution_count": 19,
   "metadata": {},
   "outputs": [
    {
     "name": "stderr",
     "output_type": "stream",
     "text": [
      "c:\\Users\\wikid\\AppData\\Local\\Programs\\Python\\Python310\\lib\\site-packages\\torch_geometric\\deprecation.py:12: UserWarning: 'data.NeighborSampler' is deprecated, use 'loader.NeighborSampler' instead\n",
      "  warnings.warn(out)\n"
     ]
    }
   ],
   "source": [
    "from graphSAGE import SAGE"
   ]
  },
  {
   "cell_type": "code",
   "execution_count": null,
   "metadata": {},
   "outputs": [
    {
     "name": "stderr",
     "output_type": "stream",
     "text": [
      "Downloading https://data.dgl.ai/dataset/reddit.zip\n",
      "Extracting c:\\Users\\wikid\\Desktop\\data\\Reddit\\raw\\reddit.zip\n",
      "Processing...\n",
      "Done!\n"
     ]
    }
   ],
   "source": [
    "path = os.path.join(os.getcwd(), '..', 'data', 'Reddit')\n",
    "dataset = Reddit(path)\n",
    "data = dataset[0]"
   ]
  },
  {
   "cell_type": "code",
   "execution_count": null,
   "metadata": {},
   "outputs": [
    {
     "name": "stderr",
     "output_type": "stream",
     "text": [
      "2023-03-07 10:28:16,964 - graphsage_logger - Node Feature Matrix Info: # Nodes: 232965, # Node Features: 602\n",
      "2023-03-07 10:28:16,976 - graphsage_logger - Edge Index Shape: torch.Size([2, 114615892])\n",
      "2023-03-07 10:28:16,978 - graphsage_logger - Edge Weight: None\n"
     ]
    },
    {
     "name": "stdout",
     "output_type": "stream",
     "text": [
      "153431\n"
     ]
    }
   ],
   "source": [
    "logger.info(f\"Node Feature Matrix Info: # Nodes: {data.x.shape[0]}, # Node Features: {data.x.shape[1]}\")\n",
    "\n",
    "logger.info(f\"Edge Index Shape: {data.edge_index.shape}\")\n",
    "logger.info(f\"Edge Weight: {data.edge_attr}\")\n",
    "\n",
    "print(data.train_mask.sum().item())"
   ]
  },
  {
   "cell_type": "code",
   "execution_count": null,
   "metadata": {},
   "outputs": [
    {
     "name": "stderr",
     "output_type": "stream",
     "text": [
      "c:\\Users\\wikid\\AppData\\Local\\Programs\\Python\\Python310\\lib\\site-packages\\torch_geometric\\deprecation.py:12: UserWarning: 'data.NeighborSampler' is deprecated, use 'loader.NeighborSampler' instead\n",
      "  warnings.warn(out)\n",
      "c:\\Users\\wikid\\AppData\\Local\\Programs\\Python\\Python310\\lib\\site-packages\\torch\\utils\\data\\dataloader.py:554: UserWarning: This DataLoader will create 12 worker processes in total. Our suggested max number of worker in current system is 8 (`cpuset` is not taken into account), which is smaller than what this DataLoader is going to create. Please be aware that excessive worker creation might get DataLoader running slow or even freeze, lower the worker number to avoid potential slowness/freeze if necessary.\n",
      "  warnings.warn(_create_warning_msg(\n"
     ]
    }
   ],
   "source": [
    "# Define Sampler\n",
    "train_loader = NeighborSampler(\n",
    "    data.edge_index, node_idx=data.train_mask,\n",
    "    sizes=[25, 10], batch_size=1024, shuffle=True, num_workers=12)\n",
    "\n",
    "subgraph_loader = NeighborSampler(\n",
    "    data.edge_index, node_idx=None,\n",
    "    sizes=[-1], batch_size=1024, shuffle=False, num_workers=12)"
   ]
  },
  {
   "cell_type": "code",
   "execution_count": null,
   "metadata": {},
   "outputs": [
    {
     "name": "stderr",
     "output_type": "stream",
     "text": [
      "2023-03-07 10:29:46,596 - graphsage_logger - Current Batch Size: 1024\n",
      "2023-03-07 10:29:46,600 - graphsage_logger - 현재 Subgraph에서 사용된 모든 node id의 개수: 106532\n",
      "2023-03-07 10:29:46,601 - graphsage_logger - Layer의 수: 2\n",
      "2023-03-07 10:29:46,603 - graphsage_logger - 진행 방향: 84747개의 2-hop neighbors ->20761개의 1-hop neighbors -> 1024개의 Head Nodes\n"
     ]
    }
   ],
   "source": [
    "batch_size, n_id, adjs = next(iter(train_loader))\n",
    "\n",
    "logger.info(f\"Current Batch Size: {batch_size}\")\n",
    "logger.info(f\"현재 Subgraph에서 사용된 모든 node id의 개수: {n_id.shape[0]}\")\n",
    "logger.info(f\"Layer의 수: {len(adjs)}\")\n",
    "\n",
    "A = adjs[1].size[0] - batch_size\n",
    "B = adjs[0].size[0] - A - batch_size\n",
    "\n",
    "logger.info(f\"진행 방향: {B}개의 2-hop neighbors ->\"\n",
    "            f\"{A}개의 1-hop neighbors -> {batch_size}개의 Head Nodes\")"
   ]
  },
  {
   "cell_type": "code",
   "execution_count": null,
   "metadata": {},
   "outputs": [],
   "source": [
    "# # 모델 정의\n",
    "# class SAGE(torch.nn.Module):\n",
    "#     def __init__(self, in_channels, hidden_channels, out_channels):\n",
    "#         super(SAGE, self).__init__()\n",
    "\n",
    "#         self.num_layers = 2\n",
    "\n",
    "#         self.convs = torch.nn.ModuleList()\n",
    "#         self.convs.append(SAGEConv(in_channels, hidden_channels))\n",
    "#         self.convs.append(SAGEConv(hidden_channels, out_channels))\n",
    "\n",
    "#     def forward(self, x, adjs):\n",
    "#         for i, (edge_index, _, size) in enumerate(adjs):\n",
    "#             x_target = x[:size[1]]\n",
    "#             x = self.convs[i]((x, x_target), edge_index)\n",
    "\n",
    "#             if i != self.num_layers - 1:\n",
    "#                 x = F.relu(x)\n",
    "#                 x = F.dropout(x, p=0.5, training=self.training)\n",
    "#         return x.log_softmax(dim=-1)\n",
    "\n",
    "#     def inference(self, x_all):\n",
    "#         pbar = tqdm(total=x_all.size(0) * self.num_layers)\n",
    "#         pbar.set_description('Evaluating')\n",
    "\n",
    "#         for i in range(self.num_layers):\n",
    "#             xs = []\n",
    "#             for batch_size, n_id, adj in subgraph_loader:\n",
    "#                 edge_index, _, size = adj.to(device)\n",
    "#                 x = x_all[n_id].to(device)\n",
    "#                 x_target = x[:size[1]]\n",
    "#                 x = self.convs[i]((x, x_target), edge_index)\n",
    "#                 if i != self.num_layers - 1:\n",
    "#                     x = F.relu(x)\n",
    "#                 xs.append(x.cpu())\n",
    "\n",
    "#                 pbar.update(batch_size)\n",
    "\n",
    "#             x_all = torch.cat(xs, dim=0)\n",
    "\n",
    "#         pbar.close()\n",
    "#         return x_all"
   ]
  },
  {
   "cell_type": "code",
   "execution_count": 18,
   "metadata": {},
   "outputs": [
    {
     "ename": "NameError",
     "evalue": "name 'SAGE' is not defined",
     "output_type": "error",
     "traceback": [
      "\u001b[1;31m---------------------------------------------------------------------------\u001b[0m",
      "\u001b[1;31mNameError\u001b[0m                                 Traceback (most recent call last)",
      "\u001b[1;32mc:\\Users\\wikid\\Desktop\\GraphSAGE\\graphsage.ipynb Cell 10\u001b[0m in \u001b[0;36m2\n\u001b[0;32m      <a href='vscode-notebook-cell:/c%3A/Users/wikid/Desktop/GraphSAGE/graphsage.ipynb#X11sZmlsZQ%3D%3D?line=0'>1</a>\u001b[0m device \u001b[39m=\u001b[39m torch\u001b[39m.\u001b[39mdevice(\u001b[39m'\u001b[39m\u001b[39mcuda\u001b[39m\u001b[39m'\u001b[39m \u001b[39mif\u001b[39;00m torch\u001b[39m.\u001b[39mcuda\u001b[39m.\u001b[39mis_available() \u001b[39melse\u001b[39;00m \u001b[39m'\u001b[39m\u001b[39mcpu\u001b[39m\u001b[39m'\u001b[39m)\n\u001b[1;32m----> <a href='vscode-notebook-cell:/c%3A/Users/wikid/Desktop/GraphSAGE/graphsage.ipynb#X11sZmlsZQ%3D%3D?line=1'>2</a>\u001b[0m model \u001b[39m=\u001b[39m SAGE(dataset\u001b[39m.\u001b[39mnum_features, \u001b[39m256\u001b[39m, dataset\u001b[39m.\u001b[39mnum_classes)\n\u001b[0;32m      <a href='vscode-notebook-cell:/c%3A/Users/wikid/Desktop/GraphSAGE/graphsage.ipynb#X11sZmlsZQ%3D%3D?line=2'>3</a>\u001b[0m model \u001b[39m=\u001b[39m model\u001b[39m.\u001b[39mto(device)\n\u001b[0;32m      <a href='vscode-notebook-cell:/c%3A/Users/wikid/Desktop/GraphSAGE/graphsage.ipynb#X11sZmlsZQ%3D%3D?line=3'>4</a>\u001b[0m optimizer \u001b[39m=\u001b[39m torch\u001b[39m.\u001b[39moptim\u001b[39m.\u001b[39mAdam(model\u001b[39m.\u001b[39mparameters(), lr\u001b[39m=\u001b[39m\u001b[39m0.01\u001b[39m)\n",
      "\u001b[1;31mNameError\u001b[0m: name 'SAGE' is not defined"
     ]
    }
   ],
   "source": [
    "device = torch.device('cuda' if torch.cuda.is_available() else 'cpu')\n",
    "model = SAGE(dataset.num_features, 256, dataset.num_classes)\n",
    "model = model.to(device)\n",
    "optimizer = torch.optim.Adam(model.parameters(), lr=0.01)\n",
    "\n",
    "x = data.x.to(device)\n",
    "y = data.y.squeeze().to(device)"
   ]
  },
  {
   "cell_type": "code",
   "execution_count": 15,
   "metadata": {},
   "outputs": [],
   "source": [
    "# 학습\n",
    "class GraphSAGE(model, optimizer, train_loader, device, data):\n",
    "\n",
    "    def __init__(self, model, optimizer, train_loader, device, data):\n",
    "        self.model = model\n",
    "        self.optimizer = optimizer\n",
    "        self.train_loader = train_loader\n",
    "        self.device = device\n",
    "        self.data = data\n",
    "\n",
    "    def train(self, epoch):\n",
    "        self.model.train()\n",
    "\n",
    "        pbar = tqdm(total=int(self.data.train_mask.sum()))\n",
    "        pbar.set_description(f'Epoch {epoch:02d}')\n",
    "\n",
    "        total_loss = total_correct = 0\n",
    "        for batch_size, n_id, adjs in self.train_loader:\n",
    "            adjs = [adj.to(self.device) for adj in adjs]\n",
    "\n",
    "            self.optimizer.zero_grad()\n",
    "            out = self.model(x[n_id], adjs)\n",
    "            loss = F.nll_loss(out, y[n_id[:batch_size]])\n",
    "            loss.backward()\n",
    "            self.optimizer.step()\n",
    "\n",
    "            total_loss += float(loss)\n",
    "            total_correct += int(out.argmax(dim=-1).eq(y[n_id[:batch_size]]).sum())\n",
    "            pbar.update(batch_size)\n",
    "\n",
    "        pbar.close()\n",
    "\n",
    "        loss = total_loss / len(self.train_loader)\n",
    "        approx_acc = total_correct / int(self.data.train_mask.sum())\n",
    "        return loss, approx_acc\n",
    "\n",
    "\n",
    "    # 모델 평가\n",
    "    @torch.no_grad()\n",
    "    def test(self):\n",
    "        self.model.eval()\n",
    "        out = self.model(x)\n",
    "\n",
    "        y_true = y.cpu().unsqueeze(-1)\n",
    "        y_pred = out.argmax(dim=-1, keepdim=True)\n",
    "\n",
    "        results = []\n",
    "        for mask in [self.data.train_mask, self.data.val_mask, self.data.test_mask]:\n",
    "            results += [int(y_pred[mask].eq(y_true[mask]).sum()) / int(mask.sum())]\n",
    "        return results"
   ]
  },
  {
   "cell_type": "code",
   "execution_count": null,
   "metadata": {},
   "outputs": [
    {
     "ename": "AttributeError",
     "evalue": "type object 'GraphSAGE' has no attribute 'model'",
     "output_type": "error",
     "traceback": [
      "\u001b[1;31m---------------------------------------------------------------------------\u001b[0m",
      "\u001b[1;31mAttributeError\u001b[0m                            Traceback (most recent call last)",
      "\u001b[1;32mc:\\Users\\wikid\\Desktop\\GraphSAGE\\graphsage.ipynb Cell 12\u001b[0m in \u001b[0;36m2\n\u001b[0;32m      <a href='vscode-notebook-cell:/c%3A/Users/wikid/Desktop/GraphSAGE/graphsage.ipynb#X13sZmlsZQ%3D%3D?line=0'>1</a>\u001b[0m \u001b[39mfor\u001b[39;00m epoch \u001b[39min\u001b[39;00m \u001b[39mrange\u001b[39m(\u001b[39m1\u001b[39m, \u001b[39m3\u001b[39m):\n\u001b[1;32m----> <a href='vscode-notebook-cell:/c%3A/Users/wikid/Desktop/GraphSAGE/graphsage.ipynb#X13sZmlsZQ%3D%3D?line=1'>2</a>\u001b[0m     loss, acc \u001b[39m=\u001b[39m GraphSAGE\u001b[39m.\u001b[39;49mtrain(GraphSAGE, epoch)\n\u001b[0;32m      <a href='vscode-notebook-cell:/c%3A/Users/wikid/Desktop/GraphSAGE/graphsage.ipynb#X13sZmlsZQ%3D%3D?line=2'>3</a>\u001b[0m     \u001b[39mprint\u001b[39m(\u001b[39mf\u001b[39m\u001b[39m'\u001b[39m\u001b[39mEpoch \u001b[39m\u001b[39m{\u001b[39;00mepoch\u001b[39m:\u001b[39;00m\u001b[39m02d\u001b[39m\u001b[39m}\u001b[39;00m\u001b[39m, Loss: \u001b[39m\u001b[39m{\u001b[39;00mloss\u001b[39m:\u001b[39;00m\u001b[39m.4f\u001b[39m\u001b[39m}\u001b[39;00m\u001b[39m, Approx. Train: \u001b[39m\u001b[39m{\u001b[39;00macc\u001b[39m:\u001b[39;00m\u001b[39m.4f\u001b[39m\u001b[39m}\u001b[39;00m\u001b[39m'\u001b[39m)\n\u001b[0;32m      <a href='vscode-notebook-cell:/c%3A/Users/wikid/Desktop/GraphSAGE/graphsage.ipynb#X13sZmlsZQ%3D%3D?line=3'>4</a>\u001b[0m     train_acc, val_acc, test_acc \u001b[39m=\u001b[39m GraphSAGE\u001b[39m.\u001b[39mtest()\n",
      "\u001b[1;32mc:\\Users\\wikid\\Desktop\\GraphSAGE\\graphsage.ipynb Cell 12\u001b[0m in \u001b[0;36m1\n\u001b[0;32m     <a href='vscode-notebook-cell:/c%3A/Users/wikid/Desktop/GraphSAGE/graphsage.ipynb#X13sZmlsZQ%3D%3D?line=11'>12</a>\u001b[0m \u001b[39mdef\u001b[39;00m \u001b[39mtrain\u001b[39m(\u001b[39mself\u001b[39m, epoch):\n\u001b[1;32m---> <a href='vscode-notebook-cell:/c%3A/Users/wikid/Desktop/GraphSAGE/graphsage.ipynb#X13sZmlsZQ%3D%3D?line=12'>13</a>\u001b[0m     \u001b[39mself\u001b[39;49m\u001b[39m.\u001b[39;49mmodel\u001b[39m.\u001b[39mtrain()\n\u001b[0;32m     <a href='vscode-notebook-cell:/c%3A/Users/wikid/Desktop/GraphSAGE/graphsage.ipynb#X13sZmlsZQ%3D%3D?line=13'>14</a>\u001b[0m     \u001b[39mself\u001b[39m\u001b[39m.\u001b[39mepoch\u001b[39m.\u001b[39mtrain()\n\u001b[0;32m     <a href='vscode-notebook-cell:/c%3A/Users/wikid/Desktop/GraphSAGE/graphsage.ipynb#X13sZmlsZQ%3D%3D?line=15'>16</a>\u001b[0m     pbar \u001b[39m=\u001b[39m tqdm(total\u001b[39m=\u001b[39m\u001b[39mint\u001b[39m(\u001b[39mself\u001b[39m\u001b[39m.\u001b[39mdata\u001b[39m.\u001b[39mtrain_mask\u001b[39m.\u001b[39msum()))\n",
      "\u001b[1;31mAttributeError\u001b[0m: type object 'GraphSAGE' has no attribute 'model'"
     ]
    }
   ],
   "source": [
    "for epoch in range(1, 3):\n",
    "    loss, acc = graph_sage.train(epoch)\n",
    "    print(f'Epoch {epoch:02d}, Loss: {loss:.4f}, Approx. Train: {acc:.4f}')\n",
    "    train_acc, val_acc, test_acc = graph_sage.test()\n",
    "    print(f'Train: {train_acc:.4f}, Val: {val_acc:.4f}, Test: {test_acc:.4f}')\n"
   ]
  },
  {
   "cell_type": "code",
   "execution_count": null,
   "metadata": {},
   "outputs": [],
   "source": []
  }
 ],
 "metadata": {
  "kernelspec": {
   "display_name": "Python 3",
   "language": "python",
   "name": "python3"
  },
  "language_info": {
   "codemirror_mode": {
    "name": "ipython",
    "version": 3
   },
   "file_extension": ".py",
   "mimetype": "text/x-python",
   "name": "python",
   "nbconvert_exporter": "python",
   "pygments_lexer": "ipython3",
   "version": "3.10.5"
  },
  "orig_nbformat": 4,
  "vscode": {
   "interpreter": {
    "hash": "a31a978b9b36123e657517a00f2bc515935c5b3db5200b3f6166774c20a94c04"
   }
  }
 },
 "nbformat": 4,
 "nbformat_minor": 2
}
